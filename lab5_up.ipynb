{
  "cells": [
    {
      "cell_type": "markdown",
      "metadata": {
        "id": "view-in-github",
        "colab_type": "text"
      },
      "source": [
        "<a href=\"https://colab.research.google.com/github/rgclapp007/GEE-lab5/blob/main/lab5_up.ipynb\" target=\"_parent\"><img src=\"https://colab.research.google.com/assets/colab-badge.svg\" alt=\"Open In Colab\"/></a>"
      ]
    },
    {
      "cell_type": "code",
      "source": [
        "!python -m pip install \"sep-plot @ git+http://zapad.stanford.edu/bob/pySepPlot.git@2bffacb9fb36963339a0834c2b04a0aedff91db4\""
      ],
      "metadata": {
        "id": "hWz-7jQCPybQ",
        "outputId": "019306e7-bd5d-4ea4-93ab-d18d704a0c7a",
        "colab": {
          "base_uri": "https://localhost:8080/"
        }
      },
      "execution_count": 1,
      "outputs": [
        {
          "output_type": "stream",
          "name": "stdout",
          "text": [
            "Looking in indexes: https://pypi.org/simple, https://us-python.pkg.dev/colab-wheels/public/simple/\n",
            "Collecting sep-plot@ git+http://zapad.stanford.edu/bob/pySepPlot.git@2bffacb9fb36963339a0834c2b04a0aedff91db4\n",
            "  Cloning http://zapad.stanford.edu/bob/pySepPlot.git (to revision 2bffacb9fb36963339a0834c2b04a0aedff91db4) to /tmp/pip-install-9dx39vz_/sep-plot_17f27613ad5e40688b6b282eba9a1bfa\n",
            "  Running command git clone --filter=blob:none --quiet http://zapad.stanford.edu/bob/pySepPlot.git /tmp/pip-install-9dx39vz_/sep-plot_17f27613ad5e40688b6b282eba9a1bfa\n",
            "  Running command git rev-parse -q --verify 'sha^2bffacb9fb36963339a0834c2b04a0aedff91db4'\n",
            "  Running command git fetch -q http://zapad.stanford.edu/bob/pySepPlot.git 2bffacb9fb36963339a0834c2b04a0aedff91db4\n",
            "  Resolved http://zapad.stanford.edu/bob/pySepPlot.git to commit 2bffacb9fb36963339a0834c2b04a0aedff91db4\n",
            "  Installing build dependencies ... \u001b[?25l\u001b[?25hdone\n",
            "  Getting requirements to build wheel ... \u001b[?25l\u001b[?25hdone\n",
            "  Preparing metadata (pyproject.toml) ... \u001b[?25l\u001b[?25hdone\n",
            "Collecting sep_python@ git+http://zapad.stanford.edu/bob/sep-python.git@6f8d0011c30cfb5e03622133846d80fff4df37c2\n",
            "  Cloning http://zapad.stanford.edu/bob/sep-python.git (to revision 6f8d0011c30cfb5e03622133846d80fff4df37c2) to /tmp/pip-install-9dx39vz_/sep-python_e7454c2881cd45cd8888a9a2692db7f3\n",
            "  Running command git clone --filter=blob:none --quiet http://zapad.stanford.edu/bob/sep-python.git /tmp/pip-install-9dx39vz_/sep-python_e7454c2881cd45cd8888a9a2692db7f3\n",
            "  Running command git rev-parse -q --verify 'sha^6f8d0011c30cfb5e03622133846d80fff4df37c2'\n",
            "  Running command git fetch -q http://zapad.stanford.edu/bob/sep-python.git 6f8d0011c30cfb5e03622133846d80fff4df37c2\n",
            "  Resolved http://zapad.stanford.edu/bob/sep-python.git to commit 6f8d0011c30cfb5e03622133846d80fff4df37c2\n",
            "  Running command git submodule update --init --recursive -q\n",
            "  Installing build dependencies ... \u001b[?25l\u001b[?25hdone\n",
            "  Getting requirements to build wheel ... \u001b[?25l\u001b[?25hdone\n",
            "  Preparing metadata (pyproject.toml) ... \u001b[?25l\u001b[?25hdone\n",
            "Requirement already satisfied: holoviews>=1.14.1 in /usr/local/lib/python3.8/dist-packages (from sep-plot@ git+http://zapad.stanford.edu/bob/pySepPlot.git@2bffacb9fb36963339a0834c2b04a0aedff91db4) (1.14.9)\n",
            "Requirement already satisfied: colorcet in /usr/local/lib/python3.8/dist-packages (from holoviews>=1.14.1->sep-plot@ git+http://zapad.stanford.edu/bob/pySepPlot.git@2bffacb9fb36963339a0834c2b04a0aedff91db4) (3.0.1)\n",
            "Requirement already satisfied: panel>=0.8.0 in /usr/local/lib/python3.8/dist-packages (from holoviews>=1.14.1->sep-plot@ git+http://zapad.stanford.edu/bob/pySepPlot.git@2bffacb9fb36963339a0834c2b04a0aedff91db4) (0.14.3)\n",
            "Requirement already satisfied: pyviz-comms>=0.7.4 in /usr/local/lib/python3.8/dist-packages (from holoviews>=1.14.1->sep-plot@ git+http://zapad.stanford.edu/bob/pySepPlot.git@2bffacb9fb36963339a0834c2b04a0aedff91db4) (2.2.1)\n",
            "Requirement already satisfied: param<2.0,>=1.9.3 in /usr/local/lib/python3.8/dist-packages (from holoviews>=1.14.1->sep-plot@ git+http://zapad.stanford.edu/bob/pySepPlot.git@2bffacb9fb36963339a0834c2b04a0aedff91db4) (1.12.3)\n",
            "Requirement already satisfied: numpy>=1.0 in /usr/local/lib/python3.8/dist-packages (from holoviews>=1.14.1->sep-plot@ git+http://zapad.stanford.edu/bob/pySepPlot.git@2bffacb9fb36963339a0834c2b04a0aedff91db4) (1.22.4)\n",
            "Requirement already satisfied: packaging in /usr/local/lib/python3.8/dist-packages (from holoviews>=1.14.1->sep-plot@ git+http://zapad.stanford.edu/bob/pySepPlot.git@2bffacb9fb36963339a0834c2b04a0aedff91db4) (23.0)\n",
            "Requirement already satisfied: pandas>=0.20.0 in /usr/local/lib/python3.8/dist-packages (from holoviews>=1.14.1->sep-plot@ git+http://zapad.stanford.edu/bob/pySepPlot.git@2bffacb9fb36963339a0834c2b04a0aedff91db4) (1.3.5)\n",
            "Collecting genericSolver@ git+http://zapad.stanford.edu/bob/python-solver.git@da63c1c078d8c2ddb67468488db58fc5916fe578\n",
            "  Cloning http://zapad.stanford.edu/bob/python-solver.git (to revision da63c1c078d8c2ddb67468488db58fc5916fe578) to /tmp/pip-install-9dx39vz_/genericsolver_95f9884ee83b440e952665817d89f367\n",
            "  Running command git clone --filter=blob:none --quiet http://zapad.stanford.edu/bob/python-solver.git /tmp/pip-install-9dx39vz_/genericsolver_95f9884ee83b440e952665817d89f367\n",
            "  Running command git rev-parse -q --verify 'sha^da63c1c078d8c2ddb67468488db58fc5916fe578'\n",
            "  Running command git fetch -q http://zapad.stanford.edu/bob/python-solver.git da63c1c078d8c2ddb67468488db58fc5916fe578\n",
            "  Resolved http://zapad.stanford.edu/bob/python-solver.git to commit da63c1c078d8c2ddb67468488db58fc5916fe578\n",
            "  Installing build dependencies ... \u001b[?25l\u001b[?25hdone\n",
            "  Getting requirements to build wheel ... \u001b[?25l\u001b[?25hdone\n",
            "  Preparing metadata (pyproject.toml) ... \u001b[?25l\u001b[?25hdone\n",
            "Requirement already satisfied: google-cloud-storage>=1.34.0 in /usr/local/lib/python3.8/dist-packages (from sep_python@ git+http://zapad.stanford.edu/bob/sep-python.git@6f8d0011c30cfb5e03622133846d80fff4df37c2->sep-plot@ git+http://zapad.stanford.edu/bob/pySepPlot.git@2bffacb9fb36963339a0834c2b04a0aedff91db4) (2.7.0)\n",
            "Requirement already satisfied: numba>=0.53 in /usr/local/lib/python3.8/dist-packages (from sep_python@ git+http://zapad.stanford.edu/bob/sep-python.git@6f8d0011c30cfb5e03622133846d80fff4df37c2->sep-plot@ git+http://zapad.stanford.edu/bob/pySepPlot.git@2bffacb9fb36963339a0834c2b04a0aedff91db4) (0.56.4)\n",
            "Requirement already satisfied: google-auth<3.0dev,>=1.25.0 in /usr/local/lib/python3.8/dist-packages (from google-cloud-storage>=1.34.0->sep_python@ git+http://zapad.stanford.edu/bob/sep-python.git@6f8d0011c30cfb5e03622133846d80fff4df37c2->sep-plot@ git+http://zapad.stanford.edu/bob/pySepPlot.git@2bffacb9fb36963339a0834c2b04a0aedff91db4) (2.16.1)\n",
            "Requirement already satisfied: requests<3.0.0dev,>=2.18.0 in /usr/local/lib/python3.8/dist-packages (from google-cloud-storage>=1.34.0->sep_python@ git+http://zapad.stanford.edu/bob/sep-python.git@6f8d0011c30cfb5e03622133846d80fff4df37c2->sep-plot@ git+http://zapad.stanford.edu/bob/pySepPlot.git@2bffacb9fb36963339a0834c2b04a0aedff91db4) (2.25.1)\n",
            "Requirement already satisfied: google-cloud-core<3.0dev,>=2.3.0 in /usr/local/lib/python3.8/dist-packages (from google-cloud-storage>=1.34.0->sep_python@ git+http://zapad.stanford.edu/bob/sep-python.git@6f8d0011c30cfb5e03622133846d80fff4df37c2->sep-plot@ git+http://zapad.stanford.edu/bob/pySepPlot.git@2bffacb9fb36963339a0834c2b04a0aedff91db4) (2.3.2)\n",
            "Requirement already satisfied: google-api-core!=2.0.*,!=2.1.*,!=2.2.*,!=2.3.0,<3.0.0dev,>=1.31.5 in /usr/local/lib/python3.8/dist-packages (from google-cloud-storage>=1.34.0->sep_python@ git+http://zapad.stanford.edu/bob/sep-python.git@6f8d0011c30cfb5e03622133846d80fff4df37c2->sep-plot@ git+http://zapad.stanford.edu/bob/pySepPlot.git@2bffacb9fb36963339a0834c2b04a0aedff91db4) (2.11.0)\n",
            "Requirement already satisfied: google-resumable-media>=2.3.2 in /usr/local/lib/python3.8/dist-packages (from google-cloud-storage>=1.34.0->sep_python@ git+http://zapad.stanford.edu/bob/sep-python.git@6f8d0011c30cfb5e03622133846d80fff4df37c2->sep-plot@ git+http://zapad.stanford.edu/bob/pySepPlot.git@2bffacb9fb36963339a0834c2b04a0aedff91db4) (2.4.1)\n",
            "Requirement already satisfied: llvmlite<0.40,>=0.39.0dev0 in /usr/local/lib/python3.8/dist-packages (from numba>=0.53->sep_python@ git+http://zapad.stanford.edu/bob/sep-python.git@6f8d0011c30cfb5e03622133846d80fff4df37c2->sep-plot@ git+http://zapad.stanford.edu/bob/pySepPlot.git@2bffacb9fb36963339a0834c2b04a0aedff91db4) (0.39.1)\n",
            "Requirement already satisfied: setuptools in /usr/local/lib/python3.8/dist-packages (from numba>=0.53->sep_python@ git+http://zapad.stanford.edu/bob/sep-python.git@6f8d0011c30cfb5e03622133846d80fff4df37c2->sep-plot@ git+http://zapad.stanford.edu/bob/pySepPlot.git@2bffacb9fb36963339a0834c2b04a0aedff91db4) (57.4.0)\n",
            "Requirement already satisfied: importlib-metadata in /usr/local/lib/python3.8/dist-packages (from numba>=0.53->sep_python@ git+http://zapad.stanford.edu/bob/sep-python.git@6f8d0011c30cfb5e03622133846d80fff4df37c2->sep-plot@ git+http://zapad.stanford.edu/bob/pySepPlot.git@2bffacb9fb36963339a0834c2b04a0aedff91db4) (6.0.0)\n",
            "Requirement already satisfied: pytz>=2017.3 in /usr/local/lib/python3.8/dist-packages (from pandas>=0.20.0->holoviews>=1.14.1->sep-plot@ git+http://zapad.stanford.edu/bob/pySepPlot.git@2bffacb9fb36963339a0834c2b04a0aedff91db4) (2022.7.1)\n",
            "Requirement already satisfied: python-dateutil>=2.7.3 in /usr/local/lib/python3.8/dist-packages (from pandas>=0.20.0->holoviews>=1.14.1->sep-plot@ git+http://zapad.stanford.edu/bob/pySepPlot.git@2bffacb9fb36963339a0834c2b04a0aedff91db4) (2.8.2)\n",
            "Requirement already satisfied: markdown in /usr/local/lib/python3.8/dist-packages (from panel>=0.8.0->holoviews>=1.14.1->sep-plot@ git+http://zapad.stanford.edu/bob/pySepPlot.git@2bffacb9fb36963339a0834c2b04a0aedff91db4) (3.4.1)\n",
            "Requirement already satisfied: bokeh<2.5.0,>=2.4.0 in /usr/local/lib/python3.8/dist-packages (from panel>=0.8.0->holoviews>=1.14.1->sep-plot@ git+http://zapad.stanford.edu/bob/pySepPlot.git@2bffacb9fb36963339a0834c2b04a0aedff91db4) (2.4.3)\n",
            "Requirement already satisfied: typing-extensions in /usr/local/lib/python3.8/dist-packages (from panel>=0.8.0->holoviews>=1.14.1->sep-plot@ git+http://zapad.stanford.edu/bob/pySepPlot.git@2bffacb9fb36963339a0834c2b04a0aedff91db4) (4.5.0)\n",
            "Requirement already satisfied: bleach in /usr/local/lib/python3.8/dist-packages (from panel>=0.8.0->holoviews>=1.14.1->sep-plot@ git+http://zapad.stanford.edu/bob/pySepPlot.git@2bffacb9fb36963339a0834c2b04a0aedff91db4) (6.0.0)\n",
            "Requirement already satisfied: pyct>=0.4.4 in /usr/local/lib/python3.8/dist-packages (from panel>=0.8.0->holoviews>=1.14.1->sep-plot@ git+http://zapad.stanford.edu/bob/pySepPlot.git@2bffacb9fb36963339a0834c2b04a0aedff91db4) (0.5.0)\n",
            "Requirement already satisfied: tqdm>=4.48.0 in /usr/local/lib/python3.8/dist-packages (from panel>=0.8.0->holoviews>=1.14.1->sep-plot@ git+http://zapad.stanford.edu/bob/pySepPlot.git@2bffacb9fb36963339a0834c2b04a0aedff91db4) (4.64.1)\n",
            "Requirement already satisfied: matplotlib>=3.3.4 in /usr/local/lib/python3.8/dist-packages (from genericSolver@ git+http://zapad.stanford.edu/bob/python-solver.git@da63c1c078d8c2ddb67468488db58fc5916fe578->sep_python@ git+http://zapad.stanford.edu/bob/sep-python.git@6f8d0011c30cfb5e03622133846d80fff4df37c2->sep-plot@ git+http://zapad.stanford.edu/bob/pySepPlot.git@2bffacb9fb36963339a0834c2b04a0aedff91db4) (3.5.3)\n",
            "Collecting pylops>=2.0.0\n",
            "  Downloading pylops-2.0.0-py3-none-any.whl (259 kB)\n",
            "\u001b[2K     \u001b[90m━━━━━━━━━━━━━━━━━━━━━━━━━━━━━━━━━━━━━━\u001b[0m \u001b[32m259.3/259.3 KB\u001b[0m \u001b[31m10.9 MB/s\u001b[0m eta \u001b[36m0:00:00\u001b[0m\n",
            "\u001b[?25hRequirement already satisfied: h5py>=2.10.0 in /usr/local/lib/python3.8/dist-packages (from genericSolver@ git+http://zapad.stanford.edu/bob/python-solver.git@da63c1c078d8c2ddb67468488db58fc5916fe578->sep_python@ git+http://zapad.stanford.edu/bob/sep-python.git@6f8d0011c30cfb5e03622133846d80fff4df37c2->sep-plot@ git+http://zapad.stanford.edu/bob/pySepPlot.git@2bffacb9fb36963339a0834c2b04a0aedff91db4) (3.1.0)\n",
            "Requirement already satisfied: scipy>=1.4.2 in /usr/local/lib/python3.8/dist-packages (from genericSolver@ git+http://zapad.stanford.edu/bob/python-solver.git@da63c1c078d8c2ddb67468488db58fc5916fe578->sep_python@ git+http://zapad.stanford.edu/bob/sep-python.git@6f8d0011c30cfb5e03622133846d80fff4df37c2->sep-plot@ git+http://zapad.stanford.edu/bob/pySepPlot.git@2bffacb9fb36963339a0834c2b04a0aedff91db4) (1.10.1)\n",
            "Requirement already satisfied: PyYAML>=3.10 in /usr/local/lib/python3.8/dist-packages (from bokeh<2.5.0,>=2.4.0->panel>=0.8.0->holoviews>=1.14.1->sep-plot@ git+http://zapad.stanford.edu/bob/pySepPlot.git@2bffacb9fb36963339a0834c2b04a0aedff91db4) (6.0)\n",
            "Requirement already satisfied: tornado>=5.1 in /usr/local/lib/python3.8/dist-packages (from bokeh<2.5.0,>=2.4.0->panel>=0.8.0->holoviews>=1.14.1->sep-plot@ git+http://zapad.stanford.edu/bob/pySepPlot.git@2bffacb9fb36963339a0834c2b04a0aedff91db4) (6.2)\n",
            "Requirement already satisfied: pillow>=7.1.0 in /usr/local/lib/python3.8/dist-packages (from bokeh<2.5.0,>=2.4.0->panel>=0.8.0->holoviews>=1.14.1->sep-plot@ git+http://zapad.stanford.edu/bob/pySepPlot.git@2bffacb9fb36963339a0834c2b04a0aedff91db4) (8.4.0)\n",
            "Requirement already satisfied: Jinja2>=2.9 in /usr/local/lib/python3.8/dist-packages (from bokeh<2.5.0,>=2.4.0->panel>=0.8.0->holoviews>=1.14.1->sep-plot@ git+http://zapad.stanford.edu/bob/pySepPlot.git@2bffacb9fb36963339a0834c2b04a0aedff91db4) (3.1.2)\n",
            "Requirement already satisfied: googleapis-common-protos<2.0dev,>=1.56.2 in /usr/local/lib/python3.8/dist-packages (from google-api-core!=2.0.*,!=2.1.*,!=2.2.*,!=2.3.0,<3.0.0dev,>=1.31.5->google-cloud-storage>=1.34.0->sep_python@ git+http://zapad.stanford.edu/bob/sep-python.git@6f8d0011c30cfb5e03622133846d80fff4df37c2->sep-plot@ git+http://zapad.stanford.edu/bob/pySepPlot.git@2bffacb9fb36963339a0834c2b04a0aedff91db4) (1.58.0)\n",
            "Requirement already satisfied: protobuf!=3.20.0,!=3.20.1,!=4.21.0,!=4.21.1,!=4.21.2,!=4.21.3,!=4.21.4,!=4.21.5,<5.0.0dev,>=3.19.5 in /usr/local/lib/python3.8/dist-packages (from google-api-core!=2.0.*,!=2.1.*,!=2.2.*,!=2.3.0,<3.0.0dev,>=1.31.5->google-cloud-storage>=1.34.0->sep_python@ git+http://zapad.stanford.edu/bob/sep-python.git@6f8d0011c30cfb5e03622133846d80fff4df37c2->sep-plot@ git+http://zapad.stanford.edu/bob/pySepPlot.git@2bffacb9fb36963339a0834c2b04a0aedff91db4) (3.19.6)\n",
            "Requirement already satisfied: pyasn1-modules>=0.2.1 in /usr/local/lib/python3.8/dist-packages (from google-auth<3.0dev,>=1.25.0->google-cloud-storage>=1.34.0->sep_python@ git+http://zapad.stanford.edu/bob/sep-python.git@6f8d0011c30cfb5e03622133846d80fff4df37c2->sep-plot@ git+http://zapad.stanford.edu/bob/pySepPlot.git@2bffacb9fb36963339a0834c2b04a0aedff91db4) (0.2.8)\n",
            "Requirement already satisfied: rsa<5,>=3.1.4 in /usr/local/lib/python3.8/dist-packages (from google-auth<3.0dev,>=1.25.0->google-cloud-storage>=1.34.0->sep_python@ git+http://zapad.stanford.edu/bob/sep-python.git@6f8d0011c30cfb5e03622133846d80fff4df37c2->sep-plot@ git+http://zapad.stanford.edu/bob/pySepPlot.git@2bffacb9fb36963339a0834c2b04a0aedff91db4) (4.9)\n",
            "Requirement already satisfied: six>=1.9.0 in /usr/local/lib/python3.8/dist-packages (from google-auth<3.0dev,>=1.25.0->google-cloud-storage>=1.34.0->sep_python@ git+http://zapad.stanford.edu/bob/sep-python.git@6f8d0011c30cfb5e03622133846d80fff4df37c2->sep-plot@ git+http://zapad.stanford.edu/bob/pySepPlot.git@2bffacb9fb36963339a0834c2b04a0aedff91db4) (1.15.0)\n",
            "Requirement already satisfied: cachetools<6.0,>=2.0.0 in /usr/local/lib/python3.8/dist-packages (from google-auth<3.0dev,>=1.25.0->google-cloud-storage>=1.34.0->sep_python@ git+http://zapad.stanford.edu/bob/sep-python.git@6f8d0011c30cfb5e03622133846d80fff4df37c2->sep-plot@ git+http://zapad.stanford.edu/bob/pySepPlot.git@2bffacb9fb36963339a0834c2b04a0aedff91db4) (5.3.0)\n",
            "Requirement already satisfied: google-crc32c<2.0dev,>=1.0 in /usr/local/lib/python3.8/dist-packages (from google-resumable-media>=2.3.2->google-cloud-storage>=1.34.0->sep_python@ git+http://zapad.stanford.edu/bob/sep-python.git@6f8d0011c30cfb5e03622133846d80fff4df37c2->sep-plot@ git+http://zapad.stanford.edu/bob/pySepPlot.git@2bffacb9fb36963339a0834c2b04a0aedff91db4) (1.5.0)\n",
            "Requirement already satisfied: fonttools>=4.22.0 in /usr/local/lib/python3.8/dist-packages (from matplotlib>=3.3.4->genericSolver@ git+http://zapad.stanford.edu/bob/python-solver.git@da63c1c078d8c2ddb67468488db58fc5916fe578->sep_python@ git+http://zapad.stanford.edu/bob/sep-python.git@6f8d0011c30cfb5e03622133846d80fff4df37c2->sep-plot@ git+http://zapad.stanford.edu/bob/pySepPlot.git@2bffacb9fb36963339a0834c2b04a0aedff91db4) (4.38.0)\n",
            "Requirement already satisfied: pyparsing>=2.2.1 in /usr/local/lib/python3.8/dist-packages (from matplotlib>=3.3.4->genericSolver@ git+http://zapad.stanford.edu/bob/python-solver.git@da63c1c078d8c2ddb67468488db58fc5916fe578->sep_python@ git+http://zapad.stanford.edu/bob/sep-python.git@6f8d0011c30cfb5e03622133846d80fff4df37c2->sep-plot@ git+http://zapad.stanford.edu/bob/pySepPlot.git@2bffacb9fb36963339a0834c2b04a0aedff91db4) (3.0.9)\n",
            "Requirement already satisfied: kiwisolver>=1.0.1 in /usr/local/lib/python3.8/dist-packages (from matplotlib>=3.3.4->genericSolver@ git+http://zapad.stanford.edu/bob/python-solver.git@da63c1c078d8c2ddb67468488db58fc5916fe578->sep_python@ git+http://zapad.stanford.edu/bob/sep-python.git@6f8d0011c30cfb5e03622133846d80fff4df37c2->sep-plot@ git+http://zapad.stanford.edu/bob/pySepPlot.git@2bffacb9fb36963339a0834c2b04a0aedff91db4) (1.4.4)\n",
            "Requirement already satisfied: cycler>=0.10 in /usr/local/lib/python3.8/dist-packages (from matplotlib>=3.3.4->genericSolver@ git+http://zapad.stanford.edu/bob/python-solver.git@da63c1c078d8c2ddb67468488db58fc5916fe578->sep_python@ git+http://zapad.stanford.edu/bob/sep-python.git@6f8d0011c30cfb5e03622133846d80fff4df37c2->sep-plot@ git+http://zapad.stanford.edu/bob/pySepPlot.git@2bffacb9fb36963339a0834c2b04a0aedff91db4) (0.11.0)\n",
            "Requirement already satisfied: certifi>=2017.4.17 in /usr/local/lib/python3.8/dist-packages (from requests<3.0.0dev,>=2.18.0->google-cloud-storage>=1.34.0->sep_python@ git+http://zapad.stanford.edu/bob/sep-python.git@6f8d0011c30cfb5e03622133846d80fff4df37c2->sep-plot@ git+http://zapad.stanford.edu/bob/pySepPlot.git@2bffacb9fb36963339a0834c2b04a0aedff91db4) (2022.12.7)\n",
            "Requirement already satisfied: idna<3,>=2.5 in /usr/local/lib/python3.8/dist-packages (from requests<3.0.0dev,>=2.18.0->google-cloud-storage>=1.34.0->sep_python@ git+http://zapad.stanford.edu/bob/sep-python.git@6f8d0011c30cfb5e03622133846d80fff4df37c2->sep-plot@ git+http://zapad.stanford.edu/bob/pySepPlot.git@2bffacb9fb36963339a0834c2b04a0aedff91db4) (2.10)\n",
            "Requirement already satisfied: chardet<5,>=3.0.2 in /usr/local/lib/python3.8/dist-packages (from requests<3.0.0dev,>=2.18.0->google-cloud-storage>=1.34.0->sep_python@ git+http://zapad.stanford.edu/bob/sep-python.git@6f8d0011c30cfb5e03622133846d80fff4df37c2->sep-plot@ git+http://zapad.stanford.edu/bob/pySepPlot.git@2bffacb9fb36963339a0834c2b04a0aedff91db4) (4.0.0)\n",
            "Requirement already satisfied: urllib3<1.27,>=1.21.1 in /usr/local/lib/python3.8/dist-packages (from requests<3.0.0dev,>=2.18.0->google-cloud-storage>=1.34.0->sep_python@ git+http://zapad.stanford.edu/bob/sep-python.git@6f8d0011c30cfb5e03622133846d80fff4df37c2->sep-plot@ git+http://zapad.stanford.edu/bob/pySepPlot.git@2bffacb9fb36963339a0834c2b04a0aedff91db4) (1.26.14)\n",
            "Requirement already satisfied: webencodings in /usr/local/lib/python3.8/dist-packages (from bleach->panel>=0.8.0->holoviews>=1.14.1->sep-plot@ git+http://zapad.stanford.edu/bob/pySepPlot.git@2bffacb9fb36963339a0834c2b04a0aedff91db4) (0.5.1)\n",
            "Requirement already satisfied: zipp>=0.5 in /usr/local/lib/python3.8/dist-packages (from importlib-metadata->numba>=0.53->sep_python@ git+http://zapad.stanford.edu/bob/sep-python.git@6f8d0011c30cfb5e03622133846d80fff4df37c2->sep-plot@ git+http://zapad.stanford.edu/bob/pySepPlot.git@2bffacb9fb36963339a0834c2b04a0aedff91db4) (3.15.0)\n",
            "Requirement already satisfied: MarkupSafe>=2.0 in /usr/local/lib/python3.8/dist-packages (from Jinja2>=2.9->bokeh<2.5.0,>=2.4.0->panel>=0.8.0->holoviews>=1.14.1->sep-plot@ git+http://zapad.stanford.edu/bob/pySepPlot.git@2bffacb9fb36963339a0834c2b04a0aedff91db4) (2.1.2)\n",
            "Requirement already satisfied: pyasn1<0.5.0,>=0.4.6 in /usr/local/lib/python3.8/dist-packages (from pyasn1-modules>=0.2.1->google-auth<3.0dev,>=1.25.0->google-cloud-storage>=1.34.0->sep_python@ git+http://zapad.stanford.edu/bob/sep-python.git@6f8d0011c30cfb5e03622133846d80fff4df37c2->sep-plot@ git+http://zapad.stanford.edu/bob/pySepPlot.git@2bffacb9fb36963339a0834c2b04a0aedff91db4) (0.4.8)\n",
            "Building wheels for collected packages: sep-plot, sep_python, genericSolver\n",
            "  Building wheel for sep-plot (pyproject.toml) ... \u001b[?25l\u001b[?25hdone\n",
            "  Created wheel for sep-plot: filename=sep_plot-0.9.102-py2.py3-none-any.whl size=41265 sha256=eb18fcace6c26cb62d2265f89561cfc980370500fca37a7cec26a24da663e442\n",
            "  Stored in directory: /root/.cache/pip/wheels/cf/df/70/5251b8527cdd567810164eae0f9033a565729a7fa30502c8ad\n",
            "  Building wheel for sep_python (pyproject.toml) ... \u001b[?25l\u001b[?25hdone\n",
            "  Created wheel for sep_python: filename=sep_python-0.9.78-py2.py3-none-any.whl size=23258 sha256=bc5152defcc4ea9dc33da9a7c9a231ca42c20e7f2c24cb0afcdf0dba1b011467\n",
            "  Stored in directory: /root/.cache/pip/wheels/58/4f/50/8ea319e659ac72b78aae70307cc1a79f6198bdb60999a6735c\n",
            "  Building wheel for genericSolver (pyproject.toml) ... \u001b[?25l\u001b[?25hdone\n",
            "  Created wheel for genericSolver: filename=genericsolver-1.0.7-py2.py3-none-any.whl size=115642 sha256=aa31bfdec079109c95ce28859b7f1b74f5621a43dddc25759f7be43f62f900be\n",
            "  Stored in directory: /root/.cache/pip/wheels/55/49/5f/9dfc51c6ef401c89385ebdec42b2640fb1f7f7e373405d9902\n",
            "Successfully built sep-plot sep_python genericSolver\n",
            "Installing collected packages: pylops, genericSolver, sep_python, sep-plot\n",
            "Successfully installed genericSolver-1.0.7 pylops-2.0.0 sep-plot-0.9.102 sep_python-0.9.78\n"
          ]
        }
      ]
    },
    {
      "cell_type": "markdown",
      "metadata": {
        "id": "U5AMtcX7Pxkl"
      },
      "source": [
        "# Summary\n",
        "\n",
        "We will look at helical coordinates and the steps required to set up and utilize them. You still start by creating helical filters of different sizes and dimensions and test the convolution and deconvolution with these filters. Then you will precondition an optimization problem using helical deconvolution"
      ]
    },
    {
      "cell_type": "markdown",
      "metadata": {
        "id": "jc4uLLLHPxkn"
      },
      "source": [
        "# Introduction\n",
        "\n"
      ]
    },
    {
      "cell_type": "markdown",
      "metadata": {
        "id": "k0RBCcoAPxkn"
      },
      "source": [
        "In the textbook we saw how helical filters can handle any number of dimensions efficiently and easily. Moreover, they allow several operations, such as deconvolution and factorization, in any dimensions using corresponding 1D operators. This makes helical filters and operators very useful for many applications, especially preconditioning.\n",
        "\n",
        "Preconditioning can provide great speed up and efficiency improvements for optimization. However, it requires knowing the inverse of the regularization operator. In many cases, it is very difficult to estimate the inverse operator. However, helical deconvolution allows us to divide by the filter response of the operator, assuming stationarity, without having to know the inverse."
      ]
    },
    {
      "cell_type": "markdown",
      "metadata": {
        "id": "w7LV1apmPxkn"
      },
      "source": [
        "# Your assignment\n",
        "\n",
        "In this lab, you will explore and utilize the python helix classes that we wrote in class a few weeks ago. We encourage you to use any dataset that is in the ``data`` directory found within your ``GP211`` directory or any previous datasets that we have used thus far in the labs. You can use the other labs to help you read in the datasets. Also, the terminal option within the jupyter notebook is a nice way to quickly explore the directory structure and open files with standard Unix text editors such as ``vim`` and ``nano``.\n",
        "\n",
        "As part of your assignment, you will first creat 2D helix filters and test their convolution and deconvolution operators. Then, you will run and compare a regularized optimization to a preconditioned optimization. We will only be providing you with this helix filter codes that we created in class."
      ]
    },
    {
      "cell_type": "markdown",
      "metadata": {
        "id": "B527SX45Pxkn"
      },
      "source": [
        "### Helix filter code\n",
        "\n",
        "Please find the codes for HelixFilter.py, Helicon.py and Polydiv.py that we implemented together in class."
      ]
    },
    {
      "cell_type": "markdown",
      "metadata": {
        "id": "kj_feML-Pxko"
      },
      "source": [
        "#### Helix2Cart"
      ]
    },
    {
      "cell_type": "code",
      "execution_count": 2,
      "metadata": {
        "id": "txKXbfVYPxko",
        "outputId": "72f25a16-1fb1-4797-86eb-9b2a5dc063ac",
        "colab": {
          "base_uri": "https://localhost:8080/"
        }
      },
      "outputs": [
        {
          "output_type": "stream",
          "name": "stdout",
          "text": [
            "WARNING! DATAPATH not found. The folder /tmp will be used to write binary files\n"
          ]
        }
      ],
      "source": [
        "# import giee\n",
        "\n",
        "from genericSolver.pyOperator import Operator as operator\n",
        "from genericSolver.pyVector  import vector\n",
        "from numba import jit, int32, float32\n",
        "import numpy as np\n",
        "import copy\n",
        "\n",
        "class helix2cart:\n",
        "    \"\"\"Convert to and from cartesian and helix space\"\"\"\n",
        "    def __init__(self,nd):\n",
        "        \"\"\"Initialize conversion\n",
        "        \n",
        "             nd - Data dimensions\"\"\"\n",
        "        if not isinstance(nd,list):\n",
        "            raise Exception(\"Expecting nd to be a list\")\n",
        "    \n",
        "        self._ndim=copy.deepcopy(nd)\n",
        "        self._b=[1]\n",
        "        sz=1\n",
        "        for n in self._ndim:\n",
        "            if not isinstance(n,int):\n",
        "                raise Exception(\"Expecting a list of ints\")\n",
        "            sz=sz*n\n",
        "            self._b.append(sz)\n",
        "    \n",
        "\n",
        "    def toCart(self,hlx):\n",
        "        cart=[0]*len(self._ndim)\n",
        "        lft=hlx\n",
        "        for i in range(len(self._ndim)-1,-1,-1):\n",
        "            cart[i]=int(lft/self._b[i])\n",
        "            lft-=cart[i]*self._b[i]\n",
        "        return cart\n",
        "    \n",
        "    \n",
        "    def toHelix(self,cart):\n",
        "        \"\"\"Convert from cartesian space to helix space\"\"\"\n",
        "        if len(cart) != len(self._ndim):\n",
        "            raise Exception(\"Expecting cart to be same size as data\")\n",
        "        hlx=0\n",
        "        for i in range(len(self._ndim)):\n",
        "            if not isinstance(cart[i],int):\n",
        "                raise Exception(\"Expecting cart to be a list of ints\")\n",
        "            hlx+=cart[i]*self._b[i]\n",
        "        return hlx "
      ]
    },
    {
      "cell_type": "markdown",
      "metadata": {
        "id": "oPJwjsy3Pxkp"
      },
      "source": [
        "#### HelixFilter"
      ]
    },
    {
      "cell_type": "code",
      "execution_count": 4,
      "metadata": {
        "id": "C3EEs4TjPxkp"
      },
      "outputs": [],
      "source": [
        "class helixFilter(vector):\n",
        "    \"\"\"Class for defining a filter on a helix\"\"\"\n",
        "    def __init__(self,nd,**kw):\n",
        "        \"\"\"Option 1:\n",
        "           nelem [int] Number of elements in filter\n",
        "        \n",
        "           Option 2:\n",
        "            filt -  Filter to make a copy of\n",
        "            \n",
        "            Option 3:\n",
        "             n - Length of a box describing the filter. First axis must be odd\n",
        "        \n",
        "        \"\"\"\n",
        "        self._nd=nd\n",
        "\n",
        "        if \"nelem\" in kw: \n",
        "            if not isinstance(kw[\"nelem\"],int):\n",
        "                raise Exception(\"Expecting nelem to be integer\")\n",
        "            super().__init__([kw[\"nelem\"]])\n",
        "            self._lags=[0]*self.get_nd_array().shape[0]\n",
        "\n",
        "        elif \"filt\" in kw: \n",
        "            if not isinstance(kw[\"filt\"],helixFilter):\n",
        "                raise Exception(\"Expecting filter to be helixFilter\")\n",
        "            super().__init__(kw[\"filt\"]._hyper,arr=kw[\"filt\"].get_nd_array())\n",
        "            self._lags=kw[\"filt\"]._lags\n",
        "\n",
        "        elif \"n\" in kw: \n",
        "            self._lags=[]\n",
        "            if not isinstance(kw[\"n\"],list):\n",
        "                raise Exception(\"Expecting n to be a list\")\n",
        "  \n",
        "            if len(kw[\"n\"]) > len(nd):\n",
        "                raise Exception(\"Box dimensions larger than data\")\n",
        "            if len(kw[\"n\"]) >3 :\n",
        "                raise Exception(\"Can only handle 3-D\")\n",
        "            n=kw[\"n\"]\n",
        "            for i in range (len(nd),3):\n",
        "                nd.append(1)\n",
        "            for i in range(len(n),3):\n",
        "                n.append(1)\n",
        "            for i in range(3):\n",
        "                if not isinstance(nd[i],int):\n",
        "                    raise Exception(\"Expecting nd elements to be int\")\n",
        "                if not isinstance(n[i],int):\n",
        "                    raise Exception(\"Expecting n elements to be int\") \n",
        "                if n[i]> nd[i]:\n",
        "                    raise Exception(\"Expecting n to be smaller than nd\")\n"
      ]
    },
    {
      "cell_type": "markdown",
      "metadata": {
        "id": "ImHGjiKwPxkp"
      },
      "source": [
        "#### Helicon"
      ]
    },
    {
      "cell_type": "code",
      "execution_count": 6,
      "metadata": {
        "id": "USqZf_thPxkq"
      },
      "outputs": [],
      "source": [
        "class helicon(operator):\n",
        "    \"\"\" Filtering with the helix\"\"\"\n",
        "    def __init__(self,model,data,filt):\n",
        "        \"\"\" \n",
        "            model - vector with hypercube and ndArray\n",
        "            data  - vector with hypercube and ndArray\n",
        "            filt  - HelixFilter\n",
        "        \n",
        "        \"\"\"\n",
        "    \n",
        "        if not model.checkSame(data):\n",
        "            raise Exception(\"Model and data must be same space\")\n",
        "    \n",
        "        try:\n",
        "            h  =  model.get_hyper()\n",
        "            m  =  model.get_nd_array()\n",
        "            h2 = data.get_hyper()\n",
        "            d  = data.get_nd_array()\n",
        "        except:\n",
        "            raise Exception(\"Model must have a hypercube and numpy representation\")\n",
        "    \n",
        "        if not isinstance(filt,HelixFilter.helixFilter):\n",
        "            raise Exception(\"Expecting filt to be a helix filter\")\n",
        "    \n",
        "        ns=h.getNs()\n",
        "        self._n123=h.getN123()\n",
        "\n",
        "        if len(ns) !=len(filt._nd):\n",
        "            for i in range(len(ns),len(filt._nd)):\n",
        "                if filt._nd[i] >1: \n",
        "                    raise Exception(\"Expecting filter n to be the same as data\")\n",
        "    \n",
        "        for i in range(len(ns)):\n",
        "            if ns[i] != filt._nd[i]:\n",
        "                raise Exception(\"Expecting filter n to be the same ss data\")\n",
        "\n",
        "        super().__init__(model,data)\n",
        "        self._filt=filt\n",
        "    \n",
        "    def forward(self,add,model,data):\n",
        "        \"\"\"Forward helix filtering\"\"\"\n",
        "        self.checkDomainRange(model,data)\n",
        "        if not add:\n",
        "            data.zero()\n",
        "        m=np.reshape(model.get_nd_array(),(self._n123,))\n",
        "        d=np.reshape(data.get_nd_array(),(self._n123,))\n",
        "        heliconFor(m,d,self._filt._lags,self._filt.get_nd_array())\n",
        "        \n",
        "    def adjoint(self,add,model,data):\n",
        "        \"\"\"Forward helix filtering\"\"\"\n",
        "        self.checkDomainRange(model,data)\n",
        "        if not add:\n",
        "            model.zero()\n",
        "        m=np.reshape(model.get_nd_array(),(self._n123,))\n",
        "        d=np.reshape(data.get_nd_array(),(self._n123,))\n",
        "        heliconAdj(m,d,self._filt._lags,self._filt.get_nd_array())\n",
        "\n",
        "@jit()\n",
        "def heliconFor(model,data,lags,coefs):\n",
        "\n",
        "    for i in range(model.shape[0]):\n",
        "        data[i]+=model[i]\n",
        "        for ilag in range(len(lags)):\n",
        "            im=i-lags[ilag]\n",
        "            if im>=0:\n",
        "                data[i]+=model[im]*coefs[ilag]\n",
        "\n",
        "@jit()\n",
        "def heliconAdj(model,data,lags,coefs):\n",
        "    for i in range(model.shape[0]):\n",
        "        model[i]+=data[i]\n",
        "        for ilag in range(len(lags)):\n",
        "            im=i-lags[ilag]\n",
        "            if im>=0:\n",
        "                model[im]+=data[i]*coefs[ilag]\n"
      ]
    },
    {
      "cell_type": "markdown",
      "metadata": {
        "id": "vh1mGwVQPxkq"
      },
      "source": [
        "#### Polydiv"
      ]
    },
    {
      "cell_type": "code",
      "execution_count": 7,
      "metadata": {
        "id": "gnaCizEFPxkq"
      },
      "outputs": [],
      "source": [
        "class polydiv(operator):\n",
        "    \"\"\" Inverse filtering with the helix\"\"\"\n",
        "    def __init__(self,model,data,filt):\n",
        "        \"\"\" \n",
        "            model - vector with hypercube and ndArray\n",
        "            data  - vector with hypercube and ndArray\n",
        "            filt  - HelixFilter\n",
        "        \n",
        "        \"\"\"\n",
        "    \n",
        "        if not model.checkSame(data):\n",
        "            raise Exception(\"Model and data must be same space\")\n",
        "    \n",
        "        try:\n",
        "            h=model.get_hyper()\n",
        "            m=model.get_nd_array()\n",
        "            h2=data.get_hyper()\n",
        "            d=data.get_nd_array()\n",
        "        except:\n",
        "            raise Exception(\"Model must have a hypercube and numpy representation\")\n",
        "    \n",
        "        if not isinstance(filt,HelixFilter.helixFilter):\n",
        "            raise Exception(\"Expecting filt to be a helix filter\")\n",
        "    \n",
        "        ns=h.getNs()\n",
        "        self._n123=h.getN123()\n",
        "        if len(ns) !=len(filt._nd):\n",
        "            for i in range(len(ns),len(filt._nd)):\n",
        "                if filt._nd[i] >1: \n",
        "                    raise Exception(\"Expecting filter n to be the same as data\")\n",
        "    \n",
        "        for i in range(len(ns)):\n",
        "            if ns[i] != filt._nd[i]:\n",
        "                raise Exception(\"Expecting filter n to be the same ss data\")\n",
        "\n",
        "        super().__init__(model,data)\n",
        "        self._filt=filt\n",
        "        self._tt=model.clone()\n",
        "        self._t=np.reshape(self._tt.get_nd_array(),(self._n123,))\n",
        "\n",
        "    def forward(self,add,model,data):\n",
        "        \"\"\"Forward helix filtering\"\"\"\n",
        "        self.checkDomainRange(model,data)\n",
        "\n",
        "        if not add:\n",
        "            data.zero()\n",
        "        self._tt.scaleAdd(model,0.,1.)\n",
        "        m=np.reshape(model.get_nd_array(),(self._n123,))\n",
        "        d=np.reshape(data.get_nd_array(),(self._n123,))\n",
        "        polydivFor(m,d,\\\n",
        "                   self._filt._lags,self._filt.get_nd_array(),self._t)\n",
        "        data.scaleAdd(self._tt)\n",
        "\n",
        "    def adjoint(self,add,model,data):\n",
        "        \"\"\"Forward helix filtering\"\"\"\n",
        "        self.checkDomainRange(model,data)\n",
        "        if not add:\n",
        "            model.zero()\n",
        "        self._tt.scaleAdd(data,0.,1.)\n",
        "        m=np.reshape(model.get_nd_array(),(self._n123,))\n",
        "        d=np.reshape(data.get_nd_array(),(self._n123,))\n",
        "\n",
        "        polydivAdj(m,d,\\\n",
        "                   self._filt._lags,self._filt.get_nd_array(),self._t)\n",
        "        model.scaleAdd(self._tt)\n",
        "\n",
        "\n",
        "@jit()\n",
        "def polydivFor(model,data,lags,coefs,tt):\n",
        "\n",
        "    for i in range(model.shape[0]):\n",
        "        for ilag in range(len(lags)):\n",
        "            im=i-lags[ilag]\n",
        "            if im>=0:\n",
        "                tt[i] -= tt[im]*coefs[ilag]\n",
        "@jit()\n",
        "def polydivAdj(model,data,lags,coefs,tt):\n",
        "    for i in range(model.shape[0]-1,-1,-1):\n",
        "        for ilag in range(len(lags)):\n",
        "            im=i+lags[ilag]\n",
        "            if im<model.shape[0]:\n",
        "                tt[i]-=tt[im]*coefs[ilag]\n"
      ]
    },
    {
      "cell_type": "markdown",
      "metadata": {
        "id": "LdjfCQ5OPxkq"
      },
      "source": [
        "### Helix Filters"
      ]
    },
    {
      "cell_type": "markdown",
      "metadata": {
        "id": "ahgXLnGxPxkr"
      },
      "source": [
        "1. Create and plot a 2D model with some spares spikes and make sure some spikes are close to the edges and cordners. Create a helix filter of your chocice (be creative) for the spiky model. Apply and plot the forward convolution of the filter on the model to see the filter response. Is this response what you expect? How does the filter behave around the edges?"
      ]
    },
    {
      "cell_type": "markdown",
      "metadata": {
        "id": "THkOJbfdPxkr"
      },
      "source": [
        "2. Apply and plot the adjoint convolution on the result of the previous question. Is the adjoint a good approximation to the inverse? Why are the results symmetric at each spike location?\n"
      ]
    },
    {
      "cell_type": "markdown",
      "metadata": {
        "id": "_e_rabXSPxkr"
      },
      "source": [
        "3. Apply and plot the forward deconvolution of the filter on the model to see the inverse filter response. How does the inverse response compare to the filter itself (please be elaborate)?\n"
      ]
    },
    {
      "cell_type": "markdown",
      "metadata": {
        "id": "yF8ij4VpPxkr"
      },
      "source": [
        "4. Apply and plot the adjoint deconvolution on the result of the previous question. How does this result compare to the results in the second question (again, please be elaborate)?\n"
      ]
    },
    {
      "cell_type": "markdown",
      "metadata": {
        "id": "QJZYZ9oaPxkr"
      },
      "source": [
        "5. Use the deconvolution operator on the results of the second question to remove the effect of the adjoint convolution operator. Did the deconvolution operator correctly remove the adjoint convolution effects?"
      ]
    },
    {
      "cell_type": "markdown",
      "metadata": {
        "id": "L1i4SAg_Pxkr"
      },
      "source": [
        "6. Use the deconvolution operator on the results of the previous question to remove the effect of the forward convolution operator. Did the deconvolution operator recover the original spiky model? Plot your results."
      ]
    },
    {
      "cell_type": "markdown",
      "metadata": {
        "id": "lojRGvjnPxkr"
      },
      "source": [
        "### Preconditioning"
      ]
    },
    {
      "cell_type": "markdown",
      "metadata": {
        "id": "Sg2cbbHyPxkr"
      },
      "source": [
        "7. Set up a regularized optimization of your choice. You can either pick a problem done in a previous lab or make a new one given the datasets and operators available to you. The problem you pick should require regularization to give proper results where the regularization operator is stationary but not only diagonal. Clearly define the objective function and all of its components."
      ]
    },
    {
      "cell_type": "markdown",
      "metadata": {
        "id": "eIrwUhfdPxkr"
      },
      "source": [
        "8. Why does this problem need to be regularized?"
      ]
    },
    {
      "cell_type": "markdown",
      "metadata": {
        "id": "FO87Pf3rPxks"
      },
      "source": [
        "9.  Run the regularized solver and plot the original data, the inverted model, the reconstructed data and the curve of the residual norm as a function of iterations (might be good to show the logarithm of this curve normalized by its maximum value). How well did the optimization solve the problem?"
      ]
    },
    {
      "cell_type": "markdown",
      "metadata": {
        "id": "EtI6wAt3Pxks"
      },
      "source": [
        "10. Rewrite the objective function after preconditioning and clearly define all of its components\n"
      ]
    },
    {
      "cell_type": "markdown",
      "metadata": {
        "id": "Cu30LvnDPxks"
      },
      "source": [
        "11. Convert your regularization operator into a helix filter and run the preconditioned solver with the deconvolution operator as the inverse of the regularization operator. Plot the original data, the inverted model, the reconstructed data and the curve of the residual norm as a function of iterations. How does the preconditioned solver compare to the regularized solver in both accuracy and convergence rate?"
      ]
    },
    {
      "cell_type": "markdown",
      "metadata": {
        "id": "T16VS7j4Pxks"
      },
      "source": [
        "### Extra credit"
      ]
    },
    {
      "cell_type": "markdown",
      "metadata": {
        "id": "1Sy-4pmjPxks"
      },
      "source": [
        "1. If the regularization operator is non-stationary or non-invertible, can we do an approximate preconditioning? What would the objective function be in that case?"
      ]
    }
  ],
  "metadata": {
    "kernelspec": {
      "display_name": "Python 3",
      "language": "python",
      "name": "python3"
    },
    "language_info": {
      "codemirror_mode": {
        "name": "ipython",
        "version": 3
      },
      "file_extension": ".py",
      "mimetype": "text/x-python",
      "name": "python",
      "nbconvert_exporter": "python",
      "pygments_lexer": "ipython3",
      "version": "3.7.4"
    },
    "colab": {
      "provenance": [],
      "include_colab_link": true
    }
  },
  "nbformat": 4,
  "nbformat_minor": 0
}